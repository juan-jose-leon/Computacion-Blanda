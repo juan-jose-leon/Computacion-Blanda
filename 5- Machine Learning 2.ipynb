{
 "cells": [
  {
   "cell_type": "markdown",
   "metadata": {},
   "source": [
    "# COMPUTACIÓN BLANDA - Sistemas y Computación \n",
    "# Presentado por : Juan Jose Leon Tabares\n",
    "\n",
    "# -------------------------------------------\n",
    " Introducción a numpy\n",
    "# -------------------------------------------\n",
    " Lección 02\n",
    "\n",
    " ** Técnicas de apilamiento\n",
    " ** División de arrays\n",
    " ** Propiedades de arrays\n",
    " # -------------------------------------------\n",
    " Se importa la librería numpy\n",
    "\n",
    "# APILAMIENTO\n",
    "-----------\n",
    "Apilado\n",
    "Las matrices se pueden apilar horizontalmente, en profundidad o\n",
    "verticalmente. Podemos utilizar, para ese propósito,\n",
    "las funciones vstack, dstack, hstack, column_stack, row_stack y concatenate.\n",
    "Para empezar, vamos a crear dos arrays"
   ]
  },
  {
   "cell_type": "code",
   "execution_count": 6,
   "metadata": {},
   "outputs": [
    {
     "name": "stdout",
     "output_type": "stream",
     "text": [
      "a =\n",
      " [[ 0  1  2]\n",
      " [ 3  4  5]\n",
      " [ 6  7  8]\n",
      " [ 9 10 11]] \n",
      "\n",
      "b =\n",
      " [[ 0  2  4]\n",
      " [ 6  8 10]\n",
      " [12 14 16]\n",
      " [18 20 22]]\n"
     ]
    }
   ],
   "source": [
    "import numpy as np\n",
    "\n",
    "# Matriz a\n",
    "a = np.arange(12).reshape(4,3)\n",
    "print('a =\\n', a, '\\n')\n",
    "\n",
    "# Matriz b, creada a partir de la matriz a\n",
    "b = a*2\n",
    "print('b =\\n', b)\n",
    "# Utilizaremos estas dos matrices para mostrar los mecanismos\n",
    "# de apilamiento disponibles"
   ]
  },
  {
   "cell_type": "markdown",
   "metadata": {},
   "source": [
    "# APILAMIENTO HORIZONTAL"
   ]
  },
  {
   "cell_type": "code",
   "execution_count": 23,
   "metadata": {},
   "outputs": [
    {
     "name": "stdout",
     "output_type": "stream",
     "text": [
      "a =\n",
      " [[ 0  1  2]\n",
      " [ 3  4  5]\n",
      " [ 6  7  8]\n",
      " [ 9 10 11]] \n",
      "\n",
      "b =\n",
      " [[ 0  2  4]\n",
      " [ 6  8 10]\n",
      " [12 14 16]\n",
      " [18 20 22]] \n",
      "\n",
      "Apilamiento horizontal =\n",
      " [[ 0  1  2  0  2  4]\n",
      " [ 3  4  5  6  8 10]\n",
      " [ 6  7  8 12 14 16]\n",
      " [ 9 10 11 18 20 22]]\n"
     ]
    }
   ],
   "source": [
    "# Matrices origen\n",
    "print('a =\\n', a, '\\n')\n",
    "print('b =\\n', b, '\\n')\n",
    "\n",
    "# Apilamiento horizontal\n",
    "print('Apilamiento horizontal =\\n', np.hstack((a,2*a)))"
   ]
  },
  {
   "cell_type": "markdown",
   "metadata": {},
   "source": [
    "# APILAMIENTO HORIZONTAL - Variante\n",
    "Utilización de la función: concatenate()"
   ]
  },
  {
   "cell_type": "code",
   "execution_count": 21,
   "metadata": {},
   "outputs": [
    {
     "name": "stdout",
     "output_type": "stream",
     "text": [
      "a =\n",
      " [[ 0  1  2]\n",
      " [ 3  4  5]\n",
      " [ 6  7  8]\n",
      " [ 9 10 11]] \n",
      "\n",
      "b =\n",
      " [[ 0  2  4]\n",
      " [ 6  8 10]\n",
      " [12 14 16]\n",
      " [18 20 22]] \n",
      "\n",
      "Apilamiento horizontal con concatenate = \n",
      " [[ 0  1  2  0  2  4]\n",
      " [ 3  4  5  6  8 10]\n",
      " [ 6  7  8 12 14 16]\n",
      " [ 9 10 11 18 20 22]]\n"
     ]
    }
   ],
   "source": [
    "# Matrices origen\n",
    "print('a =\\n', a, '\\n')\n",
    "print('b =\\n', b, '\\n')\n",
    "\n",
    "# Apilamiento horizontal\n",
    "print( 'Apilamiento horizontal con concatenate = \\n',np.concatenate((a,b), axis=1) )\n",
    "# Si axis=1, el apilamiento es horizontal\n",
    "# Si axis=0, el apilamiento es vertical"
   ]
  },
  {
   "cell_type": "markdown",
   "metadata": {},
   "source": [
    "# APILAMIENTO VERTICAL"
   ]
  },
  {
   "cell_type": "code",
   "execution_count": 24,
   "metadata": {},
   "outputs": [
    {
     "name": "stdout",
     "output_type": "stream",
     "text": [
      "a =\n",
      " [[ 0  1  2]\n",
      " [ 3  4  5]\n",
      " [ 6  7  8]\n",
      " [ 9 10 11]] \n",
      "\n",
      "b =\n",
      " [[ 0  2  4]\n",
      " [ 6  8 10]\n",
      " [12 14 16]\n",
      " [18 20 22]] \n",
      "\n",
      "Apilamiento vertical =\n",
      " [[ 0  1  2]\n",
      " [ 3  4  5]\n",
      " [ 6  7  8]\n",
      " [ 9 10 11]\n",
      " [ 0  2  4]\n",
      " [ 6  8 10]\n",
      " [12 14 16]\n",
      " [18 20 22]]\n"
     ]
    }
   ],
   "source": [
    "# Matrices origen\n",
    "print('a =\\n', a, '\\n')\n",
    "print('b =\\n', b, '\\n')\n",
    "\n",
    "# Apilamiento vertical\n",
    "print( 'Apilamiento vertical =\\n', np.vstack((a,b)) )"
   ]
  },
  {
   "cell_type": "markdown",
   "metadata": {},
   "source": [
    "# APILAMIENTO VERTICAL - Variante\n",
    "\n",
    "Utilización de la función: concatenate()"
   ]
  },
  {
   "cell_type": "code",
   "execution_count": 25,
   "metadata": {},
   "outputs": [
    {
     "name": "stdout",
     "output_type": "stream",
     "text": [
      "a =\n",
      " [[ 0  1  2]\n",
      " [ 3  4  5]\n",
      " [ 6  7  8]\n",
      " [ 9 10 11]] \n",
      "\n",
      "b =\n",
      " [[ 0  2  4]\n",
      " [ 6  8 10]\n",
      " [12 14 16]\n",
      " [18 20 22]] \n",
      "\n",
      "Apilamiento vertical con concatenate =\n",
      " [[ 0  1  2]\n",
      " [ 3  4  5]\n",
      " [ 6  7  8]\n",
      " [ 9 10 11]\n",
      " [ 0  2  4]\n",
      " [ 6  8 10]\n",
      " [12 14 16]\n",
      " [18 20 22]]\n"
     ]
    }
   ],
   "source": [
    "# Matrices origen\n",
    "print('a =\\n', a, '\\n')\n",
    "print('b =\\n', b, '\\n')\n",
    "\n",
    "# Apilamiento vertical\n",
    "print( 'Apilamiento vertical con concatenate =\\n',np.concatenate((a,b), axis=0) )\n",
    "# Si axis=0, el apilamiento es vertical"
   ]
  },
  {
   "cell_type": "markdown",
   "metadata": {},
   "source": [
    "# APILAMIENTO EN PROFUNDIDAD\n",
    "\n",
    "En el apilamiento en profundidad, se crean bloques utilizando\n",
    "parejas de datos tomados de las dos matrices"
   ]
  },
  {
   "cell_type": "code",
   "execution_count": 27,
   "metadata": {},
   "outputs": [
    {
     "name": "stdout",
     "output_type": "stream",
     "text": [
      "a =\n",
      " [[ 0  1  2]\n",
      " [ 3  4  5]\n",
      " [ 6  7  8]\n",
      " [ 9 10 11]] \n",
      "\n",
      "b =\n",
      " [[ 0  2  4]\n",
      " [ 6  8 10]\n",
      " [12 14 16]\n",
      " [18 20 22]] \n",
      "\n",
      "Apilamiento en profundidad =\n",
      " [[[ 0  0]\n",
      "  [ 1  2]\n",
      "  [ 2  4]]\n",
      "\n",
      " [[ 3  6]\n",
      "  [ 4  8]\n",
      "  [ 5 10]]\n",
      "\n",
      " [[ 6 12]\n",
      "  [ 7 14]\n",
      "  [ 8 16]]\n",
      "\n",
      " [[ 9 18]\n",
      "  [10 20]\n",
      "  [11 22]]]\n"
     ]
    }
   ],
   "source": [
    "# Matrices origen\n",
    "print('a =\\n', a, '\\n')\n",
    "print('b =\\n', b, '\\n')\n",
    "\n",
    "# Apilamiento en profundidad\n",
    "print( 'Apilamiento en profundidad =\\n', np.dstack((a,b)) )"
   ]
  },
  {
   "cell_type": "markdown",
   "metadata": {},
   "source": [
    "# APILAMIENTO POR COLUMNAS\n",
    "\n",
    "El apilamiento por columnas es similar a hstack()\n",
    "Se apilan las columnas, de izquierda a derecha, y tomándolas\n",
    "de los bloques definidos en la matriz"
   ]
  },
  {
   "cell_type": "code",
   "execution_count": 28,
   "metadata": {},
   "outputs": [
    {
     "name": "stdout",
     "output_type": "stream",
     "text": [
      "a =\n",
      " [[ 0  1  2]\n",
      " [ 3  4  5]\n",
      " [ 6  7  8]\n",
      " [ 9 10 11]] \n",
      "\n",
      "b =\n",
      " [[ 0  2  4]\n",
      " [ 6  8 10]\n",
      " [12 14 16]\n",
      " [18 20 22]] \n",
      "\n",
      "Apilamiento por columnas =\n",
      " [[ 0  1  2  0  2  4]\n",
      " [ 3  4  5  6  8 10]\n",
      " [ 6  7  8 12 14 16]\n",
      " [ 9 10 11 18 20 22]]\n"
     ]
    }
   ],
   "source": [
    "# Matrices origen\n",
    "print('a =\\n', a, '\\n')\n",
    "print('b =\\n', b, '\\n')\n",
    "\n",
    "# Apilamiento vertical\n",
    "print( 'Apilamiento por columnas =\\n',np.column_stack((a,b)) )"
   ]
  },
  {
   "cell_type": "markdown",
   "metadata": {},
   "source": [
    "# APILAMIENTO POR FILAS\n",
    "\n",
    "El apilamiento por fila es similar a vstack()\n",
    "Se apilan las filas, de arriba hacia abajo, y tomándolas\n",
    "de los bloques definidos en la matriz"
   ]
  },
  {
   "cell_type": "code",
   "execution_count": 29,
   "metadata": {},
   "outputs": [
    {
     "name": "stdout",
     "output_type": "stream",
     "text": [
      "a =\n",
      " [[ 0  1  2]\n",
      " [ 3  4  5]\n",
      " [ 6  7  8]\n",
      " [ 9 10 11]] \n",
      "\n",
      "b =\n",
      " [[ 0  2  4]\n",
      " [ 6  8 10]\n",
      " [12 14 16]\n",
      " [18 20 22]] \n",
      "\n",
      "Apilamiento por filas =\n",
      " [[ 0  1  2]\n",
      " [ 3  4  5]\n",
      " [ 6  7  8]\n",
      " [ 9 10 11]\n",
      " [ 0  2  4]\n",
      " [ 6  8 10]\n",
      " [12 14 16]\n",
      " [18 20 22]]\n"
     ]
    }
   ],
   "source": [
    "# Matrices origen\n",
    "print('a =\\n', a, '\\n')\n",
    "print('b =\\n', b, '\\n')\n",
    "\n",
    "# Apilamiento vertical\n",
    "print( 'Apilamiento por filas =\\n',np.row_stack((a,b)) )"
   ]
  },
  {
   "cell_type": "markdown",
   "metadata": {},
   "source": [
    "# DIVISIÓN DE ARRAYS\n",
    "\n",
    "Las matrices se pueden dividir vertical, horizontalmente o en profundidad.\n",
    "Las funciones involucradas son hsplit, vsplit, dsplit y split.\n",
    "Podemos hacer divisiones de las matrices utilizando su estructura inicial\n",
    "o hacerlo indicando la posición después de la cual debe ocurrir la división\n",
    "\n",
    "# DIVISIÓN HORIZONTAL"
   ]
  },
  {
   "cell_type": "code",
   "execution_count": 35,
   "metadata": {},
   "outputs": [
    {
     "name": "stdout",
     "output_type": "stream",
     "text": [
      "[[ 0  1  2]\n",
      " [ 3  4  5]\n",
      " [ 6  7  8]\n",
      " [ 9 10 11]] \n",
      "\n",
      "Array con división horizontal =\n",
      " [array([[0],\n",
      "       [3],\n",
      "       [6],\n",
      "       [9]]), array([[ 1],\n",
      "       [ 4],\n",
      "       [ 7],\n",
      "       [10]]), array([[ 2],\n",
      "       [ 5],\n",
      "       [ 8],\n",
      "       [11]])] \n",
      "\n",
      "Array con división horizontal, uso de split() =\n",
      " [array([[0],\n",
      "       [3],\n",
      "       [6],\n",
      "       [9]]), array([[ 1],\n",
      "       [ 4],\n",
      "       [ 7],\n",
      "       [10]]), array([[ 2],\n",
      "       [ 5],\n",
      "       [ 8],\n",
      "       [11]])]\n"
     ]
    }
   ],
   "source": [
    "print(a, '\\n')\n",
    "\n",
    "# El código resultante divide una matriz a lo largo de su eje horizontal\n",
    "# en tres piezas del mismo tamaño y forma:}\n",
    "print('Array con división horizontal =\\n', np.hsplit(a, 3), '\\n')\n",
    "\n",
    "# El mismo efecto se consigue con split() y utilizando una bandera a 1\n",
    "print('Array con división horizontal, uso de split() =\\n',np.split(a, 3, axis=1))"
   ]
  },
  {
   "cell_type": "markdown",
   "metadata": {},
   "source": [
    "# DIVISIÓN VERTICAL"
   ]
  },
  {
   "cell_type": "code",
   "execution_count": 38,
   "metadata": {},
   "outputs": [
    {
     "name": "stdout",
     "output_type": "stream",
     "text": [
      "[[ 0  1  2]\n",
      " [ 3  4  5]\n",
      " [ 6  7  8]\n",
      " [ 9 10 11]] \n",
      "\n",
      "División Vertical = \n",
      " [array([[0, 1, 2]]), array([[3, 4, 5]]), array([[6, 7, 8]]), array([[ 9, 10, 11]])] \n",
      "\n",
      "Array con división vertical, uso de split() =\n",
      " [array([[0, 1, 2]]), array([[3, 4, 5]]), array([[6, 7, 8]]), array([[ 9, 10, 11]])]\n"
     ]
    }
   ],
   "source": [
    "print(a, '\\n')\n",
    "\n",
    "# La función vsplit divide el array a lo largo del eje vertical:\n",
    "print('División Vertical = \\n', np.vsplit(a, 4), '\\n')\n",
    "\n",
    "# El mismo efecto se consigue con split() y utilizando una bandera a 0\n",
    "print('Array con división vertical, uso de split() =\\n',np.split(a, 4, axis=0))"
   ]
  },
  {
   "cell_type": "markdown",
   "metadata": {},
   "source": [
    "# DIVISIÓN EN PROFUNDIDAD\n",
    "\n",
    "La función dsplit, como era de esperarse, realiza división\n",
    "en profundidad dentro del array"
   ]
  },
  {
   "cell_type": "code",
   "execution_count": 48,
   "metadata": {},
   "outputs": [
    {
     "name": "stdout",
     "output_type": "stream",
     "text": [
      "[[[ 0  1  2  3]\n",
      "  [ 4  5  6  7]\n",
      "  [ 8  9 10 11]]\n",
      "\n",
      " [[12 13 14 15]\n",
      "  [16 17 18 19]\n",
      "  [20 21 22 23]]\n",
      "\n",
      " [[24 25 26 27]\n",
      "  [28 29 30 31]\n",
      "  [32 33 34 35]]\n",
      "\n",
      " [[36 37 38 39]\n",
      "  [40 41 42 43]\n",
      "  [44 45 46 47]]] \n",
      "\n",
      "División en profundidad =\n",
      " [array([[[ 0],\n",
      "        [ 4],\n",
      "        [ 8]],\n",
      "\n",
      "       [[12],\n",
      "        [16],\n",
      "        [20]],\n",
      "\n",
      "       [[24],\n",
      "        [28],\n",
      "        [32]],\n",
      "\n",
      "       [[36],\n",
      "        [40],\n",
      "        [44]]]), array([[[ 1],\n",
      "        [ 5],\n",
      "        [ 9]],\n",
      "\n",
      "       [[13],\n",
      "        [17],\n",
      "        [21]],\n",
      "\n",
      "       [[25],\n",
      "        [29],\n",
      "        [33]],\n",
      "\n",
      "       [[37],\n",
      "        [41],\n",
      "        [45]]]), array([[[ 2],\n",
      "        [ 6],\n",
      "        [10]],\n",
      "\n",
      "       [[14],\n",
      "        [18],\n",
      "        [22]],\n",
      "\n",
      "       [[26],\n",
      "        [30],\n",
      "        [34]],\n",
      "\n",
      "       [[38],\n",
      "        [42],\n",
      "        [46]]]), array([[[ 3],\n",
      "        [ 7],\n",
      "        [11]],\n",
      "\n",
      "       [[15],\n",
      "        [19],\n",
      "        [23]],\n",
      "\n",
      "       [[27],\n",
      "        [31],\n",
      "        [35]],\n",
      "\n",
      "       [[39],\n",
      "        [43],\n",
      "        [47]]])] \n",
      "\n"
     ]
    }
   ],
   "source": [
    "# Para ilustrar con un ejemplo, utilizaremos una matriz de rango tres\n",
    "c = np.arange(48).reshape(4, 3, 4)\n",
    "print(c, '\\n')\n",
    "\n",
    "# Se realiza la división\n",
    "print('División en profundidad =\\n', np.dsplit(c,4), '\\n')"
   ]
  },
  {
   "cell_type": "markdown",
   "metadata": {},
   "source": [
    "# PROPIEDADES DE LOS ARRAYS"
   ]
  },
  {
   "cell_type": "code",
   "execution_count": 49,
   "metadata": {},
   "outputs": [
    {
     "name": "stdout",
     "output_type": "stream",
     "text": [
      "[[ 0  2  4]\n",
      " [ 6  8 10]\n",
      " [12 14 16]\n",
      " [18 20 22]] \n",
      "\n",
      "ndim:  2\n"
     ]
    }
   ],
   "source": [
    "# El atributo ndim calcula el número de dimensiones\n",
    "\n",
    "print(b, '\\n')\n",
    "print('ndim: ', b.ndim)"
   ]
  },
  {
   "cell_type": "code",
   "execution_count": 50,
   "metadata": {},
   "outputs": [
    {
     "name": "stdout",
     "output_type": "stream",
     "text": [
      "[[ 0  2  4]\n",
      " [ 6  8 10]\n",
      " [12 14 16]\n",
      " [18 20 22]] \n",
      "\n",
      "size:  12\n"
     ]
    }
   ],
   "source": [
    "# El atributo size calcula el número de elementos\n",
    "\n",
    "print(b, '\\n')\n",
    "print('size: ', b.size)"
   ]
  },
  {
   "cell_type": "code",
   "execution_count": 52,
   "metadata": {},
   "outputs": [
    {
     "name": "stdout",
     "output_type": "stream",
     "text": [
      "[[ 0  2  4]\n",
      " [ 6  8 10]\n",
      " [12 14 16]\n",
      " [18 20 22]] \n",
      "\n",
      "itemsize:  4\n"
     ]
    }
   ],
   "source": [
    "# El atributo itemsize obtiene el número de bytes por cada elemento en el array\n",
    "print(b, '\\n')\n",
    "print('itemsize: ', b.itemsize)"
   ]
  },
  {
   "cell_type": "code",
   "execution_count": 53,
   "metadata": {},
   "outputs": [
    {
     "name": "stdout",
     "output_type": "stream",
     "text": [
      "[[ 0  2  4]\n",
      " [ 6  8 10]\n",
      " [12 14 16]\n",
      " [18 20 22]] \n",
      "\n",
      "nbytes:  48 \n",
      "\n",
      "nbytes equivalente:  48\n"
     ]
    }
   ],
   "source": [
    "# El atributo nbytes calcula el número total de bytes del array\n",
    "\n",
    "print(b, '\\n')\n",
    "print('nbytes: ', b.nbytes, '\\n')\n",
    "\n",
    "# Es equivalente a la siguiente operación\n",
    "print('nbytes equivalente: ', b.size * b.itemsize)"
   ]
  },
  {
   "cell_type": "code",
   "execution_count": 55,
   "metadata": {},
   "outputs": [
    {
     "name": "stdout",
     "output_type": "stream",
     "text": [
      "[[ 0  2  4  6]\n",
      " [ 8 10 12 14]\n",
      " [16 18 20 22]\n",
      " [ 0  0  0  0]\n",
      " [ 0  0  0  0]\n",
      " [ 0  0  0  0]] \n",
      "\n",
      "Transpuesta: \n",
      "  [[ 0  8 16  0  0  0]\n",
      " [ 2 10 18  0  0  0]\n",
      " [ 4 12 20  0  0  0]\n",
      " [ 6 14 22  0  0  0]]\n"
     ]
    }
   ],
   "source": [
    "# El atributo T tiene el mismo efecto que la transpuesta de la matriz\n",
    "\n",
    "b.resize(6,4)\n",
    "print(b, '\\n')\n",
    "print('Transpuesta: \\n ', b.T)"
   ]
  },
  {
   "cell_type": "code",
   "execution_count": 61,
   "metadata": {},
   "outputs": [
    {
     "name": "stdout",
     "output_type": "stream",
     "text": [
      "Complejo de b: \n",
      " [1.+1.j 3.+2.j 5.+3.j]\n"
     ]
    }
   ],
   "source": [
    "# Los números complejos en numpy se representan con j\n",
    "\n",
    "b = np.array([1.j + 1, 2.j + 3, 5 + 3.j])\n",
    "print('Complejo de b: \\n', b)"
   ]
  },
  {
   "cell_type": "code",
   "execution_count": 62,
   "metadata": {},
   "outputs": [
    {
     "name": "stdout",
     "output_type": "stream",
     "text": [
      "real:  [1. 3. 5.] \n",
      "\n",
      "imaginario:  [1. 2. 3.]\n"
     ]
    }
   ],
   "source": [
    "# El atributo real nos da la parte real del array, o el array en sí mismo si solo contiene números reales\n",
    "print('real: ', b.real, '\\n')\n",
    "\n",
    "# El atributo imag contiene la parte imaginaria del array\n",
    "print('imaginario: ', b.imag)"
   ]
  },
  {
   "cell_type": "code",
   "execution_count": 63,
   "metadata": {},
   "outputs": [
    {
     "name": "stdout",
     "output_type": "stream",
     "text": [
      "complex128\n"
     ]
    }
   ],
   "source": [
    "# Si el array contiene números complejos, entonces el tipo de datos se convierte automáticamente a complejo\n",
    "print(b.dtype)"
   ]
  },
  {
   "cell_type": "code",
   "execution_count": 67,
   "metadata": {},
   "outputs": [
    {
     "name": "stdout",
     "output_type": "stream",
     "text": [
      "[[0 1]\n",
      " [2 3]] \n",
      "\n",
      "<numpy.flatiter object at 0x000001ED6400FC40> \n",
      "\n",
      "0\n",
      "1\n",
      "2\n",
      "3\n",
      "\n",
      "\n",
      "Elemento 2:  2\n",
      "[[7 7]\n",
      " [7 7]] \n",
      "\n",
      "[[1 1]\n",
      " [7 7]] \n",
      "\n"
     ]
    }
   ],
   "source": [
    "# El atributo flat devuelve un objeto numpy.flatiter.\n",
    "# Esta es la única forma de adquirir un flatiter:\n",
    "# no tenemos acceso a un constructor de flatiter.\n",
    "# El apartamento El iterador nos permite recorrer una matriz\n",
    "# como si fuera una matriz plana, como se muestra a continuación:\n",
    "\n",
    "# En el siguiente ejemplo se clarifica este concepto\n",
    "b = np.arange(4).reshape(2,2)\n",
    "print(b, '\\n')\n",
    "f = b.flat\n",
    "print(f, '\\n')\n",
    "\n",
    "# Ciclo que itera a lo largo de f\n",
    "for item in f: print (item)\n",
    "    \n",
    "# Selección de un elemento\n",
    "print('\\n')\n",
    "print('Elemento 2: ', b.flat[2])\n",
    "\n",
    "# Operaciones directas con flat\n",
    "b.flat = 7\n",
    "print(b, '\\n')\n",
    "b.flat[[1,0]] = 1\n",
    "print(b, '\\n')"
   ]
  },
  {
   "cell_type": "code",
   "execution_count": null,
   "metadata": {},
   "outputs": [],
   "source": []
  }
 ],
 "metadata": {
  "kernelspec": {
   "display_name": "Python 3",
   "language": "python",
   "name": "python3"
  },
  "language_info": {
   "codemirror_mode": {
    "name": "ipython",
    "version": 3
   },
   "file_extension": ".py",
   "mimetype": "text/x-python",
   "name": "python",
   "nbconvert_exporter": "python",
   "pygments_lexer": "ipython3",
   "version": "3.8.3"
  }
 },
 "nbformat": 4,
 "nbformat_minor": 4
}
