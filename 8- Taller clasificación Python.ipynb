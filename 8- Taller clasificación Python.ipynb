{
 "cells": [
  {
   "cell_type": "markdown",
   "metadata": {},
   "source": [
    "# PROCESAMIENTO DIGITAL\n",
    "\n",
    "# COMPUTACION BLANDA \n",
    "\n",
    "# Taller validación Regresión y Clasificación\n",
    "\n",
    "# Presentado por: Juan Jose Leon Tabares"
   ]
  },
  {
   "cell_type": "code",
   "execution_count": 3,
   "metadata": {},
   "outputs": [
    {
     "name": "stdout",
     "output_type": "stream",
     "text": [
      "[[ 5.5 -3.9  0.3]\n",
      " [-2.2  3.8 -6.5]\n",
      " [ 9.5  0.4  4.1]\n",
      " [ 7.5 -9.9 -5.5]]\n"
     ]
    }
   ],
   "source": [
    "# Se importan las librería numpy y las funciones de preprocesamiento\n",
    "import numpy as np\n",
    "from sklearn import preprocessing\n",
    "\n",
    "# Datos de prueba\n",
    "input_data = np.array(\n",
    "[[5.5, -3.9, 0.3],\n",
    "[-2.2, 3.8, -6.5],\n",
    "[9.5, 0.4, 4.1],\n",
    "[7.5, -9.9, -5.5]])\n",
    "\n",
    "print(input_data)"
   ]
  },
  {
   "cell_type": "code",
   "execution_count": 5,
   "metadata": {},
   "outputs": [
    {
     "name": "stdout",
     "output_type": "stream",
     "text": [
      "\n",
      "Datos binarizados:\n",
      " [[1. 0. 1.]\n",
      " [0. 1. 0.]\n",
      " [1. 1. 1.]\n",
      " [1. 0. 0.]]\n"
     ]
    }
   ],
   "source": [
    "# Binarizar los datos\n",
    "\n",
    "data_binarized = preprocessing.Binarizer(threshold=0).transform(input_data)\n",
    "print(\"\\nDatos binarizados:\\n\", data_binarized)"
   ]
  },
  {
   "cell_type": "code",
   "execution_count": 11,
   "metadata": {},
   "outputs": [
    {
     "name": "stdout",
     "output_type": "stream",
     "text": [
      "\n",
      "ANTES:\n",
      "Media = [ 5.075 -2.4   -1.9  ]\n",
      "Desviación estándar = [4.4319155  5.11810512 4.32897216]\n"
     ]
    }
   ],
   "source": [
    "# Imprimir la media y la desviación estándar\n",
    "\n",
    "print(\"\\nANTES:\")\n",
    "# Con axis = 0 --> saca la media de cada columna de la matriz\n",
    "# Con axix = 1 --> saca la media de cada fila de la matriz\n",
    "print(\"Media =\", input_data.mean(axis=0))\n",
    "print(\"Desviación estándar =\", input_data.std(axis=0))"
   ]
  },
  {
   "cell_type": "code",
   "execution_count": 12,
   "metadata": {},
   "outputs": [
    {
     "name": "stdout",
     "output_type": "stream",
     "text": [
      "\n",
      "DESPUÉS:\n",
      "Media = [-5.55111512e-17 -5.55111512e-17  1.11022302e-16]\n",
      "Desviación estándar = [1. 1. 1.]\n"
     ]
    }
   ],
   "source": [
    "# Remover la media\n",
    "\n",
    "data_scaled = preprocessing.scale(input_data)\n",
    "print(\"\\nDESPUÉS:\")\n",
    "print(\"Media =\", data_scaled.mean(axis=0))\n",
    "print(\"Desviación estándar =\", data_scaled.std(axis=0))"
   ]
  },
  {
   "cell_type": "code",
   "execution_count": 13,
   "metadata": {},
   "outputs": [
    {
     "name": "stdout",
     "output_type": "stream",
     "text": [
      "\n",
      "Min max escalamiento de datos:\n",
      " [[0.65811966 0.4379562  0.64150943]\n",
      " [0.         1.         0.        ]\n",
      " [1.         0.75182482 1.        ]\n",
      " [0.82905983 0.         0.09433962]]\n"
     ]
    }
   ],
   "source": [
    "# Escalamiento Min Max\n",
    "\n",
    "data_scaler_minmax = preprocessing.MinMaxScaler(feature_range=(0,1))\n",
    "data_scaled_minmax = data_scaler_minmax.fit_transform(input_data)\n",
    "print(\"\\nMin max escalamiento de datos:\\n\", data_scaled_minmax)"
   ]
  },
  {
   "cell_type": "code",
   "execution_count": 14,
   "metadata": {},
   "outputs": [
    {
     "name": "stdout",
     "output_type": "stream",
     "text": [
      "\n",
      "L1 dato normalizado:\n",
      " [[ 0.56701031 -0.40206186  0.03092784]\n",
      " [-0.176       0.304      -0.52      ]\n",
      " [ 0.67857143  0.02857143  0.29285714]\n",
      " [ 0.32751092 -0.43231441 -0.24017467]]\n",
      "\n",
      "L2 dato normalizado:\n",
      " [[ 0.81492661 -0.57785705  0.04445054]\n",
      " [-0.28046536  0.48444016 -0.82864764]\n",
      " [ 0.91745697  0.03862977  0.39595511]\n",
      " [ 0.55214267 -0.72882832 -0.40490462]]\n"
     ]
    }
   ],
   "source": [
    "# Normalización de datos\n",
    "\n",
    "data_normalized_l1 = preprocessing.normalize(input_data,norm='l1')\n",
    "data_normalized_l2 = preprocessing.normalize(input_data,norm='l2')\n",
    "print(\"\\nL1 dato normalizado:\\n\", data_normalized_l1)\n",
    "print(\"\\nL2 dato normalizado:\\n\", data_normalized_l2)"
   ]
  },
  {
   "cell_type": "code",
   "execution_count": 24,
   "metadata": {},
   "outputs": [
    {
     "name": "stdout",
     "output_type": "stream",
     "text": [
      "\n",
      "Mapeo de etiquetas:\n",
      "black --> 0\n",
      "green --> 1\n",
      "red --> 2\n",
      "white --> 3\n",
      "yellow --> 4\n",
      "\n",
      "Labels = ['green', 'red', 'yellow', 'black']\n",
      "Encoded values = [1, 2, 4, 0]\n",
      "\n",
      "Encoded values = [3, 0, 4, 1, 0]\n",
      "Decoded labels = ['white', 'black', 'yellow', 'green', 'black']\n"
     ]
    }
   ],
   "source": [
    "# Manejo de etiquetas\n",
    "\n",
    "import numpy as np\n",
    "from sklearn import preprocessing\n",
    "\n",
    "# Se definen algunas etiquetas simples\n",
    "input_labels = ['red', 'black', 'red', 'green', 'black', 'yellow','white']\n",
    "\n",
    "# Se crea un codificador de etiquetas y se ajustan las etiquetas\n",
    "encoder = preprocessing.LabelEncoder()\n",
    "encoder.fit(input_labels)\n",
    "\n",
    "# Se imprime el mapeo entre palabras y números\n",
    "print(\"\\nMapeo de etiquetas:\")\n",
    "for i, item in enumerate(encoder.classes_):\n",
    "    print(item, \"-->\", i)\n",
    "\n",
    "# Codificar un conjunto de etiquetas con el codificador\n",
    "test_labels = ['green', 'red', 'yellow','black']\n",
    "encoded_values = encoder.transform(test_labels)\n",
    "print(\"\\nLabels =\", test_labels)\n",
    "print(\"Encoded values =\", list(encoded_values))\n",
    "\n",
    "# Decodificar un conjunto de valores usando el codificador\n",
    "encoded_values = [3, 0, 4, 1,0]\n",
    "decoded_list = encoder.inverse_transform(encoded_values)\n",
    "print(\"\\nEncoded values =\", encoded_values)\n",
    "print(\"Decoded labels =\", list(decoded_list))"
   ]
  },
  {
   "cell_type": "code",
   "execution_count": null,
   "metadata": {},
   "outputs": [],
   "source": []
  }
 ],
 "metadata": {
  "kernelspec": {
   "display_name": "Python 3",
   "language": "python",
   "name": "python3"
  },
  "language_info": {
   "codemirror_mode": {
    "name": "ipython",
    "version": 3
   },
   "file_extension": ".py",
   "mimetype": "text/x-python",
   "name": "python",
   "nbconvert_exporter": "python",
   "pygments_lexer": "ipython3",
   "version": "3.8.3"
  }
 },
 "nbformat": 4,
 "nbformat_minor": 4
}
