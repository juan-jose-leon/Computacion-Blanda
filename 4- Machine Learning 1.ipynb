{
 "cells": [
  {
   "cell_type": "markdown",
   "metadata": {},
   "source": [
    "# COMPUTACIÓN BLANDA - Sistemas y Computación - Machine Learning 1\n",
    "-------------------------------------------\n",
    "# Introducción a numpy\n",
    "### Presentado por: Juan Jose Leon Tabares Cc: 1225092968\n",
    "-------------------------------------------\n",
    "Lección 01\n",
    "\n",
    "Creación de arrays\n",
    "Acceso a los arrays\n",
    "Manejo de rangos\n",
    "Modificación de arrays\n",
    "\n"
   ]
  },
  {
   "cell_type": "code",
   "execution_count": 5,
   "metadata": {},
   "outputs": [
    {
     "name": "stdout",
     "output_type": "stream",
     "text": [
      "Arreglo a = [ 0  1  2  3  4  5  6  7  8  9 10] \n",
      "\n",
      "Tipo de a = int32 \n",
      "\n",
      "Dimensión de a = 1 \n",
      "\n",
      "Número de elementos de a = (11,)\n"
     ]
    }
   ],
   "source": [
    "# Se importa la librería numpy\n",
    "import numpy as np\n",
    "\n",
    "# Se crea una array con 6 elementos\n",
    "a = np.arange(11)\n",
    "\n",
    "# Se imprime en pantalla el contenido del array a\n",
    "print('Arreglo a =', a, '\\n')\n",
    "\n",
    "# Se muestra el tipo de los elementos del array\n",
    "print('Tipo de a =', a.dtype, '\\n')\n",
    "\n",
    "# Se calcula la dimensión del array a, en este caso dimensión = 1 (vector)\n",
    "print('Dimensión de a =', a.ndim, '\\n')\n",
    "\n",
    "# Se calcula el número de elementos del array a\n",
    "# No olvidar que existe un elemento con índice 0\n",
    "print('Número de elementos de a =', a.shape)"
   ]
  },
  {
   "cell_type": "code",
   "execution_count": 6,
   "metadata": {},
   "outputs": [
    {
     "name": "stdout",
     "output_type": "stream",
     "text": [
      "[[0 1 2]\n",
      " [0 1 2]]\n"
     ]
    }
   ],
   "source": [
    "# Creando un arreglo multidimensional\n",
    "# La matriz se crea con la función: array\n",
    "# La matriz debe de ser de las mismas dimensiones en X\n",
    "m = np.array([np.arange(3), np.arange(3)])\n",
    "print(m)"
   ]
  },
  {
   "cell_type": "code",
   "execution_count": 20,
   "metadata": {},
   "outputs": [
    {
     "name": "stdout",
     "output_type": "stream",
     "text": [
      "a =\n",
      " [[1 2 3]\n",
      " [4 5 6]] \n",
      "\n",
      "a[0,0] = 1 \n",
      "\n",
      "a[0,1] = 2 \n",
      "\n",
      "a[0,2] = 3 \n",
      "\n",
      "a[1,0] = 4 \n",
      "\n",
      "a[1,1] = 5 \n",
      "\n",
      "a[1,2] = 6\n"
     ]
    }
   ],
   "source": [
    "# Seleccionando elementos de un array\n",
    "\n",
    "a = np.array([[1,2,3], [4,5,6,]])\n",
    "print('a =\\n', a, '\\n')\n",
    "# Elementos individuales\n",
    "print('a[0,0] =', a[0,0], '\\n')\n",
    "print('a[0,1] =', a[0,1], '\\n')\n",
    "print('a[0,2] =', a[0,2], '\\n')\n",
    "print('a[1,0] =', a[1,0], '\\n')\n",
    "print('a[1,1] =', a[1,1], '\\n')\n",
    "print('a[1,2] =', a[1,2])"
   ]
  },
  {
   "cell_type": "code",
   "execution_count": 7,
   "metadata": {},
   "outputs": [
    {
     "name": "stdout",
     "output_type": "stream",
     "text": [
      "a = [ 0  1  2  3  4  5  6  7  8  9 10] \n",
      "\n",
      "a[0:11] =  [ 0  1  2  3  4  5  6  7  8  9 10] \n",
      "\n",
      "a[3,8] = [3 4 5 6 7]\n"
     ]
    }
   ],
   "source": [
    "# Crea un array con 11 elementos, desde 0 hasta 10\n",
    "\n",
    "a = np.arange(11)\n",
    "\n",
    "print('a =', a, '\\n')\n",
    "\n",
    "# Muestra los elementos desde 0 hasta 11. Imprime desde 0 hasta 10\n",
    "print('a[0:11] = ', a[0:11], '\\n')\n",
    "\n",
    "# Muestra desde 3 hasta 7. Imprime desde 3 hasta 6\n",
    "print('a[3,8] =', a[3:8])"
   ]
  },
  {
   "cell_type": "code",
   "execution_count": 30,
   "metadata": {},
   "outputs": [
    {
     "name": "stdout",
     "output_type": "stream",
     "text": [
      "a[0:11:1] = [ 0  1  2  3  4  5  6  7  8  9 10] \n",
      "\n",
      "a[:11:1] = [ 0  1  2  3  4  5  6  7  8  9 10] \n",
      "\n",
      "a[0:11:2] = [ 0  2  4  6  8 10] \n",
      "\n",
      "a[0:11:3] = [0 3 6 9] \n",
      "\n",
      "a[0:11:4] = [0 4 8]\n"
     ]
    }
   ],
   "source": [
    "# Mostrando todos los elementos, desde el 0 hasta el 8, de uno en uno\n",
    "print('a[0:11:1] =', a[0:11:1], '\\n')\n",
    "\n",
    "# El mismo ejemplo, pero omitiendo el número 0 al principio, el cual no es necesario aquí\n",
    "print('a[:11:1] =', a[:11:1], '\\n')\n",
    "\n",
    "# Mostrando los números, de dos en dos\n",
    "print('a[0:11:2] =', a[0:11:2], '\\n')\n",
    "\n",
    "# Mostrando los números, de tres en tres\n",
    "print('a[0:11:3] =', a[0:11:3], '\\n')\n",
    "\n",
    "# Mostrando los números, de cuatro en cuatro\n",
    "print('a[0:11:4] =', a[0:11:4])"
   ]
  },
  {
   "cell_type": "code",
   "execution_count": 8,
   "metadata": {},
   "outputs": [
    {
     "name": "stdout",
     "output_type": "stream",
     "text": [
      "a[11:0:-1] = [10  9  8  7  6  5  4  3  2  1] \n",
      "\n",
      "a[::-1] = [10  9  8  7  6  5  4  3  2  1  0]\n"
     ]
    }
   ],
   "source": [
    "# Si utilizamos un incremento negativo, el array se muestra en orden inverso\n",
    "\n",
    "# El problema es que no muestra el valor 0\n",
    "print('a[11:0:-1] =', a[11:0:-1], '\\n')\n",
    "\n",
    "# Si se omiten los valores de índice, el resultado es preciso\n",
    "print('a[::-1] =', a[::-1])"
   ]
  },
  {
   "cell_type": "markdown",
   "metadata": {},
   "source": [
    "# Utilizacion de arreglos multidimensionales"
   ]
  },
  {
   "cell_type": "code",
   "execution_count": 9,
   "metadata": {},
   "outputs": [
    {
     "name": "stdout",
     "output_type": "stream",
     "text": [
      "b =\n",
      " [[[ 0  1  2  3  4]\n",
      "  [ 5  6  7  8  9]\n",
      "  [10 11 12 13 14]]\n",
      "\n",
      " [[15 16 17 18 19]\n",
      "  [20 21 22 23 24]\n",
      "  [25 26 27 28 29]]]\n"
     ]
    }
   ],
   "source": [
    "\n",
    "b = np.arange(30).reshape(2,3,5)\n",
    "print('b =\\n', b)\n",
    "# La instrucción reshape genera una matriz con 2 bloques, 3 filas y 4 columnas\n",
    "# El número total de elementos es de 24 (generados por arange)"
   ]
  },
  {
   "cell_type": "code",
   "execution_count": 12,
   "metadata": {},
   "outputs": [
    {
     "name": "stdout",
     "output_type": "stream",
     "text": [
      "b[1,2,3] = 28 \n",
      "\n",
      "b[0,2,2] = 12 \n",
      "\n",
      "b[1,1,1] = 21 \n",
      "\n",
      "b[0,2,1] = 11\n"
     ]
    }
   ],
   "source": [
    "# Acceso individual a los elementos del array\n",
    "\n",
    "# Elemento en el bloque 1, fila 2, columna 3\n",
    "print('b[1,2,3] =', b[1,2,3], '\\n')\n",
    "\n",
    "# Elemento en el bloque 0, fila 2, columna 2\n",
    "print('b[0,2,2] =', b[0,2,2], '\\n')\n",
    "\n",
    "# Elemento en el bloque 1, fila 1, columna 1\n",
    "print('b[1,1,1] =', b[1,1,1], '\\n')\n",
    "\n",
    "# Elemento en el bloque 0, fila 2, columna 1\n",
    "print('b[0,2,1] =', b[0,2,1])"
   ]
  },
  {
   "cell_type": "code",
   "execution_count": 18,
   "metadata": {},
   "outputs": [
    {
     "name": "stdout",
     "output_type": "stream",
     "text": [
      "b[0,0,0] = 0 \n",
      "\n",
      "b[1,0,0] = 15 \n",
      "\n",
      "b[:,0,0] = [ 0 15] \n",
      "\n",
      "b[0,:,0] = [ 0  5 10] \n",
      "\n",
      "b[:,:,0] = [[ 0  5 10]\n",
      " [15 20 25]] \n",
      "\n",
      "b[:,0,0] = [5 6 7 8 9] \n",
      "\n"
     ]
    }
   ],
   "source": [
    "# Mostraremos como generalizar una selección\n",
    "\n",
    "# Primero elegimos el componente en el bloque 0, fila 0, columna 0\n",
    "print('b[0,0,0] =', b[0,0,0], '\\n')\n",
    "\n",
    "# A continuación, elegimos el componente en el bloque 1, fila 0, columna 0\n",
    "print('b[1,0,0] =', b[1,0,0], '\\n')\n",
    "\n",
    "# Para elegir SIMULTANEAMENTE ambos elementos del bloque, lo hacemos utilizando dos puntos\n",
    "print('b[:,0,0] =', b[:,0,0], '\\n')\n",
    "\n",
    "# Para elegir simultaneamente los elementos del bloque 0 y columnaa 0\n",
    "print('b[0,:,0] =', b[0,:,0], '\\n')\n",
    "\n",
    "# Para elegir simultaneamente los elementos del bloque o y 1,  columnaa 0\n",
    "print('b[:,:,0] =', b[:,:,0], '\\n')\n",
    "\n",
    "# Para elegir simultaneamente los elementos del bloque 0 y fila 1\n",
    "print('b[:,0,0] =', b[0,1,:], '\\n')"
   ]
  },
  {
   "cell_type": "code",
   "execution_count": 21,
   "metadata": {},
   "outputs": [
    {
     "name": "stdout",
     "output_type": "stream",
     "text": [
      "b[1] =\n",
      " [[15 16 17 18 19]\n",
      " [20 21 22 23 24]\n",
      " [25 26 27 28 29]]\n"
     ]
    }
   ],
   "source": [
    "# Si escribimos: b[1]\n",
    "\n",
    "# Habremos elegido el primer bloque, pero habríamos omitido las filas y las columnas\n",
    "# En tal caso, numpy toma todas las filas y columnas del bloque 1\n",
    "print('b[1] =\\n', b[1])"
   ]
  },
  {
   "cell_type": "code",
   "execution_count": 23,
   "metadata": {},
   "outputs": [
    {
     "name": "stdout",
     "output_type": "stream",
     "text": [
      "b[1,:,:] =\n",
      " [[15 16 17 18 19]\n",
      " [20 21 22 23 24]\n",
      " [25 26 27 28 29]]\n"
     ]
    }
   ],
   "source": [
    "# Otra forma de representar b[1] es: b[1, :, :]\n",
    "\n",
    "# Los dos puntos sin ningún valor, indican que se utilizarán todos los términos disponibles\n",
    "# En este caso, todas las filas y todas las columnas\n",
    "print('b[1,:,:] =\\n', b[1,:,:])"
   ]
  },
  {
   "cell_type": "code",
   "execution_count": 26,
   "metadata": {},
   "outputs": [
    {
     "name": "stdout",
     "output_type": "stream",
     "text": [
      "b[1, ...] =\n",
      " [[15 16 17 18 19]\n",
      " [20 21 22 23 24]\n",
      " [25 26 27 28 29]]\n"
     ]
    }
   ],
   "source": [
    "# Cuando se utiliza la notación de : a derecha o a izquierda, se puede reemplazar por ...\n",
    "# El ejemplo anterior se puede escribir así:\n",
    "print('b[1, ...] =\\n', b[1, ...])"
   ]
  },
  {
   "cell_type": "code",
   "execution_count": 27,
   "metadata": {},
   "outputs": [
    {
     "name": "stdout",
     "output_type": "stream",
     "text": [
      "b[0,1] = [5 6 7 8 9]\n"
     ]
    }
   ],
   "source": [
    "# Si queremos la fila 1 en el bloque 0 (sin que importen las columnas), se tiene:\n",
    "print('b[0,1] =', b[0,1])"
   ]
  },
  {
   "cell_type": "code",
   "execution_count": 56,
   "metadata": {},
   "outputs": [
    {
     "name": "stdout",
     "output_type": "stream",
     "text": [
      "z = [5 6 7 8 9] \n",
      "\n",
      "z[::2] = [5 7 9] \n",
      "\n",
      "z[::-1] = [9 8 7 6 5] \n",
      "\n"
     ]
    }
   ],
   "source": [
    "# El resultado de una selección se puede utilizar luego para un cálculo posterior\n",
    "\n",
    "# Se obtiene la fila 1 del bloque 0 (como en ejemplo anterior)\n",
    "# y se asigna dicha respuesta a la variable z\n",
    "z = b[0,1]\n",
    "print('z =', z, '\\n')\n",
    "\n",
    "# En este caso, la variable z toma el valor: [ 5 6 7 8 9]\n",
    "# Si ahora queremos tomar de dicha respuesta los valores de 2 en 2, se tiene:\n",
    "print('z[::2] =', z[::2], '\\n') \n",
    "\n",
    "# Si ahora queremos tomar de dicha respuesta los valores invertidos, se tiene:\n",
    "print('z[::-1] =', z[::-1], '\\n') "
   ]
  },
  {
   "cell_type": "code",
   "execution_count": 59,
   "metadata": {},
   "outputs": [
    {
     "name": "stdout",
     "output_type": "stream",
     "text": [
      "b[0,1,::2] = [5 7 9]\n"
     ]
    }
   ],
   "source": [
    "# El ejercicio anterior se puede combinar en una expresión única, así:\n",
    "# Se toma el bloque 0 y la fila 1 de saltos de 2\n",
    "print('b[0,1,::2] =', b[0,1,::2])\n",
    "# Esta es una solución más compacta"
   ]
  },
  {
   "cell_type": "code",
   "execution_count": 65,
   "metadata": {},
   "outputs": [
    {
     "name": "stdout",
     "output_type": "stream",
     "text": [
      "b= [[[ 0  1  2  3  4]\n",
      "  [ 5  6  7  8  9]\n",
      "  [10 11 12 13 14]]\n",
      "\n",
      " [[15 16 17 18 19]\n",
      "  [20 21 22 23 24]\n",
      "  [25 26 27 28 29]]] \n",
      "\n",
      "b[:,:,1] =\n",
      " [[ 2  7 12]\n",
      " [17 22 27]] \n",
      "\n",
      "b[...,1] =\n",
      " [[ 2  7 12]\n",
      " [17 22 27]]\n"
     ]
    }
   ],
   "source": [
    "# Imprime todas las columnas, independientemente de los bloques y filas\n",
    "\n",
    "print('b=',b, '\\n')\n",
    "print('b[:,:,1] =\\n', b[:,:,2], '\\n')\n",
    "\n",
    "# Variante de notación (simplificada)\n",
    "print('b[...,1] =\\n', b[...,2])"
   ]
  },
  {
   "cell_type": "code",
   "execution_count": 64,
   "metadata": {},
   "outputs": [
    {
     "name": "stdout",
     "output_type": "stream",
     "text": [
      "b= [[[ 0  1  2  3  4]\n",
      "  [ 5  6  7  8  9]\n",
      "  [10 11 12 13 14]]\n",
      "\n",
      " [[15 16 17 18 19]\n",
      "  [20 21 22 23 24]\n",
      "  [25 26 27 28 29]]] \n",
      "\n",
      "b[:,1] = [[ 5  6  7  8  9]\n",
      " [20 21 22 23 24]]\n"
     ]
    }
   ],
   "source": [
    "# Si queremos seleccionar todas las filas 2, independientemente\n",
    "\n",
    "# de los bloques y columnas, se tiene:\n",
    "print('b=',b, '\\n')\n",
    "print('b[:,1] =', b[:,1])\n",
    "# Puesto que no se menciona en la notación las columnas, se toman todos\n",
    "# los valores según corresponda"
   ]
  },
  {
   "cell_type": "code",
   "execution_count": 70,
   "metadata": {},
   "outputs": [
    {
     "name": "stdout",
     "output_type": "stream",
     "text": [
      "b= [[[ 0  1  2  3  4]\n",
      "  [ 5  6  7  8  9]\n",
      "  [10 11 12 13 14]]\n",
      "\n",
      " [[15 16 17 18 19]\n",
      "  [20 21 22 23 24]\n",
      "  [25 26 27 28 29]]] \n",
      "\n",
      "b[0,:,1] = [ 1  6 11] \n",
      "\n",
      "b[1,:,1] = [16 21 26]\n"
     ]
    }
   ],
   "source": [
    "# En el siguiente ejemplo seleccionmos la columna 1 del bloque 0\n",
    "\n",
    "print('b=',b, '\\n')\n",
    "print('b[0,:,1] =', b[0,:,1],'\\n')\n",
    "\n",
    "# En el siguiente ejemplo seleccionmos la columna 1 del bloque 1\n",
    "print('b[1,:,1] =', b[1,:,1])"
   ]
  },
  {
   "cell_type": "code",
   "execution_count": 76,
   "metadata": {},
   "outputs": [
    {
     "name": "stdout",
     "output_type": "stream",
     "text": [
      "b[0,:,-1] = [ 4  9 14]\n",
      "b[0, ::-1, -1] = [14  9  4]\n",
      "b[0, ::2, -1] = [ 4 14]\n"
     ]
    }
   ],
   "source": [
    "# Si queremos seleccionar la última columna del primer bloque, tenemos:\n",
    "\n",
    "print('b[0,:,-1] =', b[0,:,-1])\n",
    "\n",
    "# Podemos observar lo siguiente: entre corchetes encontramos tres valores\n",
    "# El primero, el cero, selecciona el primer bloque\n",
    "# El tercero, -1, se encarga de seleccionar la última columna\n",
    "# Los dos puntos, en la segunda posición, SELECCIONAN todos los\n",
    "# componentes de lad FILAS, que FORMARÁN PARTE de dicha COLUMNA\n",
    "# Dado que los dos puntos definen todos los valores de las FILAS en\n",
    "# una columna específica, si quisieramos que DICHOS VALORES estuvieran\n",
    "# en orden inverso, ejecutaríamos la instrucción\n",
    "print('b[0, ::-1, -1] =', b[0, ::-1, -1])\n",
    "# La expresión ::-1 invierte todos los valores que se hubieran seleccionado\n",
    "# Si en lugar de invertir la columna, quisieramos imprimir sus\n",
    "# valores de 2 en 2, tendríamos:\n",
    "print('b[0, ::2, -1] =', b[0, ::2, -1])"
   ]
  },
  {
   "cell_type": "code",
   "execution_count": 77,
   "metadata": {},
   "outputs": [
    {
     "name": "stdout",
     "output_type": "stream",
     "text": [
      "[[[ 0  1  2  3  4]\n",
      "  [ 5  6  7  8  9]\n",
      "  [10 11 12 13 14]]\n",
      "\n",
      " [[15 16 17 18 19]\n",
      "  [20 21 22 23 24]\n",
      "  [25 26 27 28 29]]] \n",
      "-----------------------\n",
      "\n",
      "[[[15 16 17 18 19]\n",
      "  [20 21 22 23 24]\n",
      "  [25 26 27 28 29]]\n",
      "\n",
      " [[ 0  1  2  3  4]\n",
      "  [ 5  6  7  8  9]\n",
      "  [10 11 12 13 14]]]\n"
     ]
    }
   ],
   "source": [
    "# El array original\n",
    "\n",
    "print(b, '\\n-----------------------\\n')\n",
    "# Esta instrucción invierte los bloques\n",
    "print(b[::-1])"
   ]
  },
  {
   "cell_type": "code",
   "execution_count": 78,
   "metadata": {},
   "outputs": [
    {
     "name": "stdout",
     "output_type": "stream",
     "text": [
      "Matriz b =\n",
      " [[[ 0  1  2  3  4]\n",
      "  [ 5  6  7  8  9]\n",
      "  [10 11 12 13 14]]\n",
      "\n",
      " [[15 16 17 18 19]\n",
      "  [20 21 22 23 24]\n",
      "  [25 26 27 28 29]]] \n",
      "--------------------------\n",
      "\n",
      "Vector b = \n",
      " [ 0  1  2  3  4  5  6  7  8  9 10 11 12 13 14 15 16 17 18 19 20 21 22 23\n",
      " 24 25 26 27 28 29]\n"
     ]
    }
   ],
   "source": [
    "# La instrucción: ravel(), de-construye el efecto de la instrucción: reshape, lo vuelve en el vector o estado original\n",
    "\n",
    "# Este es el array b en su estado matricial\n",
    "print('Matriz b =\\n', b, '\\n--------------------------\\n')\n",
    "# Con ravel() se genera un vector a partir de la matriz\n",
    "print('Vector b = \\n', b.ravel())"
   ]
  },
  {
   "cell_type": "code",
   "execution_count": 79,
   "metadata": {},
   "outputs": [
    {
     "name": "stdout",
     "output_type": "stream",
     "text": [
      "Vector b con flatten =\n",
      " [ 0  1  2  3  4  5  6  7  8  9 10 11 12 13 14 15 16 17 18 19 20 21 22 23\n",
      " 24 25 26 27 28 29]\n"
     ]
    }
   ],
   "source": [
    "# La instrucción: flatten() es similar a ravel()\n",
    "\n",
    "# La diferencia es que flatten genera un nuevo espacio de memoria\n",
    "print('Vector b con flatten =\\n', b.flatten())"
   ]
  },
  {
   "cell_type": "code",
   "execution_count": 85,
   "metadata": {},
   "outputs": [
    {
     "name": "stdout",
     "output_type": "stream",
     "text": [
      "b(3x10) =\n",
      " [[ 0  1  2  3  4  5  6  7  8  9]\n",
      " [10 11 12 13 14 15 16 17 18 19]\n",
      " [20 21 22 23 24 25 26 27 28 29]]\n"
     ]
    }
   ],
   "source": [
    "# Se puede cambiar la estructura de una matriz con la instrucción: shape\n",
    "\n",
    "# Transformamos la matriz en 3 filas x 10 columnas\n",
    "b.shape = (3,10)\n",
    "print('b(3x10) =\\n', b)"
   ]
  },
  {
   "cell_type": "code",
   "execution_count": 86,
   "metadata": {},
   "outputs": [
    {
     "name": "stdout",
     "output_type": "stream",
     "text": [
      "b =\n",
      " [[ 0  1  2  3  4  5  6  7  8  9]\n",
      " [10 11 12 13 14 15 16 17 18 19]\n",
      " [20 21 22 23 24 25 26 27 28 29]] \n",
      "------------------------\n",
      "\n",
      "Transpuesta de b =\n",
      " [[ 0 10 20]\n",
      " [ 1 11 21]\n",
      " [ 2 12 22]\n",
      " [ 3 13 23]\n",
      " [ 4 14 24]\n",
      " [ 5 15 25]\n",
      " [ 6 16 26]\n",
      " [ 7 17 27]\n",
      " [ 8 18 28]\n",
      " [ 9 19 29]] \n",
      "------------------------\n",
      "\n"
     ]
    }
   ],
   "source": [
    "# A partir de la matriz que acaba de ser generada, vamos a mostrar\n",
    "\n",
    "# como se construye la transpuesta de la matriz\n",
    "# Matriz original\n",
    "print('b =\\n', b, '\\n------------------------\\n')\n",
    "# Matri transpuesta\n",
    "print('Transpuesta de b =\\n', b.transpose(), '\\n------------------------\\n')"
   ]
  },
  {
   "cell_type": "code",
   "execution_count": 88,
   "metadata": {},
   "outputs": [
    {
     "name": "stdout",
     "output_type": "stream",
     "text": [
      "b =\n",
      " [[ 0  1  2  3  4  5  6  7  8  9]\n",
      " [10 11 12 13 14 15 16 17 18 19]\n",
      " [20 21 22 23 24 25 26 27 28 29]]\n"
     ]
    }
   ],
   "source": [
    "# Para concluir este primer módulo de numpy, mostraremos que la instrucción\n",
    "\n",
    "# resize, ejecuta una labor similar a reshape\n",
    "# La diferencia está en que resize altera la estructura del array\n",
    "# En cambio reshape crea una copia del original, razón por la cual en\n",
    "# reshape se debe asignar el resultado a una nueva variable\n",
    "# Se cambia la estructura del array b\n",
    "b.resize([3,10])\n",
    "# Al imprimir el array b, se observa que su estructura ha cambiado\n",
    "print('b =\\n', b)"
   ]
  },
  {
   "cell_type": "code",
   "execution_count": null,
   "metadata": {},
   "outputs": [],
   "source": []
  }
 ],
 "metadata": {
  "kernelspec": {
   "display_name": "Python 3",
   "language": "python",
   "name": "python3"
  },
  "language_info": {
   "codemirror_mode": {
    "name": "ipython",
    "version": 3
   },
   "file_extension": ".py",
   "mimetype": "text/x-python",
   "name": "python",
   "nbconvert_exporter": "python",
   "pygments_lexer": "ipython3",
   "version": "3.8.3"
  }
 },
 "nbformat": 4,
 "nbformat_minor": 4
}
